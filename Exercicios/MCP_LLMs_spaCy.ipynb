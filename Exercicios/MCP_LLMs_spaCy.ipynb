{
 "cells": [
  {
   "cell_type": "markdown",
   "id": "0f485605",
   "metadata": {},
   "source": [
    "\n",
    "#  Mini-Lab: MCP + LLM + NLP (com spaCy)\n",
    "\n",
    "Neste exercício você vai aprender a:\n",
    "1. Usar um modelo do Hugging Face para respostas livres.\n",
    "2. Criar um mini-classificador de intenções com spaCy.\n",
    "3. Simular um MCP (Model Context Protocol) para que o chatbot saiba quando chamar funções externas.\n",
    "\n",
    " Vamos lá!\n"
   ]
  },
  {
   "cell_type": "code",
   "execution_count": null,
   "id": "2a419ac8",
   "metadata": {},
   "outputs": [],
   "source": [
    "\n",
    "!pip install spacy transformers accelerate\n",
    "!python -m spacy download pt_core_news_md\n"
   ]
  },
  {
   "cell_type": "code",
   "execution_count": null,
   "id": "8f02f414",
   "metadata": {},
   "outputs": [],
   "source": [
    "\n",
    "import spacy\n",
    "from transformers import pipeline\n"
   ]
  },
  {
   "cell_type": "code",
   "execution_count": null,
   "id": "f938953d",
   "metadata": {},
   "outputs": [],
   "source": [
    "\n",
    "# TODO: carregue o modelo Hugging Face em português\n",
    "#generator =\n",
    "\n",
    "# Carregar modelo spaCy em PT-BR\n",
    "#nlp = \n"
   ]
  },
  {
   "cell_type": "code",
   "execution_count": null,
   "id": "da77fd44",
   "metadata": {},
   "outputs": [],
   "source": [
    "\n",
    "def get_weather(city):\n",
    "    return f\"A previsão para {city} é de 24°C e ensolarado.\"\n",
    "\n",
    "def calculate(expression):\n",
    "    try:\n",
    "        result = eval(expression)  #função perigosa...\n",
    "        return f\"O resultado é {result}\"\n",
    "    except:\n",
    "        return \"Expressão inválida.\"\n"
   ]
  },
  {
   "cell_type": "code",
   "execution_count": null,
   "id": "57edbeb4",
   "metadata": {},
   "outputs": [],
   "source": [
    "\n",
    "# TODO: adicione pelo menos 3 exemplos para cada intenção\n",
    "intents = {\n",
    "    #\"weather\": [\"previsão do tempo\", ...],\n",
    "    #\"math\": [\"calcule\", ...],\n",
    "}\n"
   ]
  },
  {
   "cell_type": "code",
   "execution_count": null,
   "id": "800d868d",
   "metadata": {},
   "outputs": [],
   "source": [
    "\n",
    "#Criar embeddings de exemplo\n",
    "intent_docs = {intent: [nlp(ex) for ex in examples] for intent, examples in intents.items()}\n",
    "\n",
    "def classify_intent(text, threshold=0.70): #Alterar o threshold se necessário\n",
    "    doc = nlp(text.lower())\n",
    "    best_intent = None\n",
    "    best_score = 0.0\n",
    "    \n",
    "    for intent, examples in intent_docs.items():\n",
    "        for ex_doc in examples:\n",
    "            score = doc.similarity(ex_doc)\n",
    "            #print(\"item: \" + str(ex_doc) + \"      score: \" + str(score)) #Descomente para debug\n",
    "            if score > best_score:\n",
    "                best_intent = intent\n",
    "                best_score = score\n",
    "    \n",
    "    if best_score >= threshold:\n",
    "        return best_intent\n",
    "    return None\n",
    "\n",
    "#Teste rápido (tentar obter um resultado coerente aqui) \n",
    "print(classify_intent(\"Qual a predição do clima amanhã?\"))\n",
    "print(classify_intent(\"Resolva 10 + 5\"))\n"
   ]
  },
  {
   "cell_type": "code",
   "execution_count": null,
   "id": "843bc16b",
   "metadata": {},
   "outputs": [],
   "source": [
    "\n",
    "def chatbot_with_mcp(user_input):\n",
    "    intent = classify_intent(user_input)\n",
    "    \n",
    "    if intent == \"weather\":\n",
    "        if \"para\" in user_input:\n",
    "            city = user_input.split(\"para\")[-1].strip().replace(\"?\", \"\")\n",
    "        else:\n",
    "            city = \"sua cidade\"\n",
    "        return f\"(Ferramenta via MCP) {get_weather(city)}\"\n",
    "    \n",
    "    elif intent == \"math\":\n",
    "        expr = user_input.lower().replace(\"calcule\", \"\").replace(\"faça a conta\", \"\").strip()\n",
    "        return f\"(Ferramenta via MCP) {calculate(expr)}\"\n",
    "    \n",
    "    else:\n",
    "        response = generator(user_input, max_new_tokens=50, do_sample=True, temperature=0.7)[0][\"generated_text\"]\n",
    "        return f\"(LLM) {response}\"\n"
   ]
  },
  {
   "cell_type": "code",
   "execution_count": null,
   "id": "689571c5",
   "metadata": {},
   "outputs": [],
   "source": [
    "\n",
    "print(chatbot_with_mcp(\"Qual a predição do clima para Porto Alegre?\"))\n",
    "print(chatbot_with_mcp(\"Me dê a antevisão do tempo amanhã\"))\n",
    "print(chatbot_with_mcp(\"Calcule 12 + 7\"))\n",
    "print(chatbot_with_mcp(\"calcule 15 * 3\"))\n",
    "print(chatbot_with_mcp(\"Me conte uma piada\"))"
   ]
  }
 ],
 "metadata": {
  "kernelspec": {
   "display_name": "base",
   "language": "python",
   "name": "python3"
  },
  "language_info": {
   "name": "python",
   "version": "3.10.10"
  }
 },
 "nbformat": 4,
 "nbformat_minor": 5
}
